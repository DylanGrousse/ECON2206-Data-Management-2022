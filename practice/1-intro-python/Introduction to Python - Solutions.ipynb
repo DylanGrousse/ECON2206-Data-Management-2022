{
 "cells": [
  {
   "cell_type": "markdown",
   "id": "df1182d9",
   "metadata": {},
   "source": [
    "## Introduction to Python - Solutions"
   ]
  },
  {
   "cell_type": "markdown",
   "id": "0dda3d1e",
   "metadata": {},
   "source": [
    "#### Exercise 1"
   ]
  },
  {
   "cell_type": "code",
   "execution_count": null,
   "id": "c55d1cc0",
   "metadata": {},
   "outputs": [],
   "source": [
    "pi = 3.14159 \n",
    "diameter = 3 \n",
    "\n",
    "# Create a variable called 'radius' equal to half the diameter\n",
    "radius = diameter / 2\n",
    "\n",
    "# Create a variable called 'area', using the formula for the area of a circle: pi times the radius squared\n",
    "area = pi * radius**2"
   ]
  },
  {
   "cell_type": "markdown",
   "id": "18dfa638",
   "metadata": {},
   "source": [
    "#### Exercise 2"
   ]
  },
  {
   "cell_type": "code",
   "execution_count": null,
   "id": "8a3924e7",
   "metadata": {},
   "outputs": [],
   "source": [
    "# Store your first name in a variable.\n",
    "my_first_name = 'Michel'\n",
    "\n",
    "# Tell python to print \"Hello YOUR_NAME, how are you ?\", where YOUR_NAME is your first name.\n",
    "print('Hello Michel, how are you ?')"
   ]
  },
  {
   "cell_type": "markdown",
   "id": "1051f75c",
   "metadata": {},
   "source": [
    "#### Exercise 3"
   ]
  },
  {
   "cell_type": "code",
   "execution_count": null,
   "id": "71a53bd3",
   "metadata": {},
   "outputs": [],
   "source": [
    "# Imagine you have to allocate workers to different plants. \n",
    "# Write a function called allocate_workers that takes the number of workers and plants as arguments, \n",
    "# and returns the number of worker that should be allocated to each plant. \n",
    "# Assume equal sharing of workers.\n",
    "\n",
    "def allocate_workers(num_workers, num_plants):\n",
    "    print(num_workers/num_plants)\n",
    "\n",
    "# How could you improve that ? \n",
    "def allocate_workers(num_workers, num_plants): # Good solution ?\n",
    "    print(round(num_workers/num_plants))"
   ]
  },
  {
   "cell_type": "markdown",
   "id": "41a528ce",
   "metadata": {},
   "source": [
    "#### Exercise 4"
   ]
  },
  {
   "cell_type": "code",
   "execution_count": null,
   "id": "d40f6aa3",
   "metadata": {},
   "outputs": [],
   "source": [
    "# Write a function called sign which takes a numerical argument and returns \n",
    "# -1 if it's negative, 1 if it's positive, and 0 if it's 0.\n",
    "\n",
    "def sign(number):\n",
    "    if number < 0:\n",
    "        return -1\n",
    "    else if number > 0:\n",
    "        return 1\n",
    "    else:\n",
    "        return 0"
   ]
  },
  {
   "cell_type": "markdown",
   "id": "20612b1a",
   "metadata": {},
   "source": [
    "#### Exercise 5"
   ]
  },
  {
   "cell_type": "code",
   "execution_count": 7,
   "id": "ec54a857",
   "metadata": {},
   "outputs": [],
   "source": [
    "# Add a condition in the allocate_workers to check if an equal sharing of workers is possible. \n",
    "# If yes, returns \"There are X workers per plant.\", where X is the number of workers per plant. \n",
    "# If not, returns \"Impossible to allocate workers.\".\n",
    "\n",
    "def allocate_workers(num_workers, num_plants):\n",
    "    if num_workers % num_plants == 0:\n",
    "        print('There are ' + str(num_workers / num_plants) + ' workers per plant')\n",
    "    else:\n",
    "        print('Impossible to allocate workers')"
   ]
  },
  {
   "cell_type": "markdown",
   "id": "6605c421",
   "metadata": {},
   "source": [
    "#### Exercise 6"
   ]
  },
  {
   "cell_type": "code",
   "execution_count": 1,
   "id": "14b45d18",
   "metadata": {},
   "outputs": [],
   "source": [
    "# Write a function which returns the second element of a list. If the list has no second element, return None.\n",
    "\n",
    "def select_second(L):\n",
    "    \"\"\"Return the second element of the given list. If the list has no second\n",
    "    element, return None.\n",
    "    \"\"\"\n",
    "    if len(L) < 2:\n",
    "        return None\n",
    "    else: \n",
    "        return L[1]"
   ]
  },
  {
   "cell_type": "code",
   "execution_count": 2,
   "id": "74bb2ad2",
   "metadata": {},
   "outputs": [
    {
     "name": "stdout",
     "output_type": "stream",
     "text": [
      "Help on function select_second in module __main__:\n",
      "\n",
      "select_second(L)\n",
      "    Return the second element of the given list. If the list has no second\n",
      "    element, return None.\n",
      "\n"
     ]
    }
   ],
   "source": [
    "help(select_second)"
   ]
  },
  {
   "cell_type": "markdown",
   "id": "d86a8273",
   "metadata": {},
   "source": [
    "#### Exercise 7"
   ]
  },
  {
   "cell_type": "code",
   "execution_count": 3,
   "id": "4a56b562",
   "metadata": {},
   "outputs": [],
   "source": [
    "# Imagine a list of racers: \n",
    "\n",
    "# r = [\"Mario\", \"Bowser\", \"Luigi\"] \n",
    "\n",
    "# Write a function that sets the first place racer (at the front of the list) to last place and vice versa.\n",
    "\n",
    "def purple_shell(racers):\n",
    "    \"\"\"Given a list of racers, set the first place racer (at the front of the list) to last\n",
    "    place and vice versa.\n",
    "    \n",
    "    >>> r = [\"Mario\", \"Bowser\", \"Luigi\"]\n",
    "    >>> purple_shell(r)\n",
    "    >>> r\n",
    "    [\"Luigi\", \"Bowser\", \"Mario\"]\n",
    "    \"\"\"\n",
    "    racers[0], racers[-1] = racers[-1], racers[0]"
   ]
  },
  {
   "cell_type": "markdown",
   "id": "c08e2277",
   "metadata": {},
   "source": [
    "#### Exercise 8"
   ]
  },
  {
   "cell_type": "code",
   "execution_count": 145,
   "id": "ec38226d",
   "metadata": {},
   "outputs": [
    {
     "data": {
      "text/plain": [
       "5"
      ]
     },
     "execution_count": 145,
     "metadata": {},
     "output_type": "execute_result"
    }
   ],
   "source": [
    "# Solve this exercise on Spyder ! (Open Anaconda)\n",
    "\n",
    "# Let's improve the allocate_workers function. Consider two types of plants: \n",
    "# type A with a capacity of 10, type B with a capacity of 15. \n",
    "# It is more efficient to produce with B plants (economies of scale). \n",
    "# Modify the allocate_workers function such that it allocates workers into B plants first. \n",
    "# The plants are contained in a list. The function should also check if all workers have been allocated to a plant. \n",
    "# If yes, return \"Allocation complete\". If not, return the number of idle workers. \n",
    "\n",
    "# Solution 1\n",
    "\n",
    "plants = ['A','A','B']\n",
    "\n",
    "def allocate_workers(num_workers, plants):\n",
    "    total_capacity = 0\n",
    "    \n",
    "    for p in plants:\n",
    "        if p == 'A':\n",
    "            total_capacity += 10\n",
    "        elif p == 'B':\n",
    "            total_capacity += 15\n",
    "    \n",
    "    if num_workers > total_capacity:\n",
    "        return num_workers - total_capacity\n",
    "    else:\n",
    "        print('Allocation complete')\n",
    "        \n",
    "# Solution 2\n",
    "\n",
    "plants_a = ['A','A']\n",
    "plants_b = ['B']\n",
    "    \n",
    "def allocate_workers_bis(num_workers, plants_a, plants_b):\n",
    "    temp_num_workers = num_workers\n",
    "    \n",
    "    for p in plants_b:\n",
    "        if temp_num_workers >= 15:\n",
    "            temp_num_workers -= 15\n",
    "        elif temp_num_workers > 0:\n",
    "            temp_num_workers = 0\n",
    "    \n",
    "    for p in plants_a:\n",
    "        if temp_num_workers >= 10:\n",
    "            temp_num_workers -= 10\n",
    "        elif temp_num_workers > 0:\n",
    "            temp_num_workers = 0\n",
    "            \n",
    "    if temp_num_workers > 0:\n",
    "        return temp_num_workers\n",
    "    else:\n",
    "        print('Allocation complete')\n"
   ]
  },
  {
   "cell_type": "markdown",
   "id": "68581d92",
   "metadata": {},
   "source": [
    "#### Exercise 9"
   ]
  },
  {
   "cell_type": "code",
   "execution_count": 130,
   "id": "0795bd24",
   "metadata": {},
   "outputs": [
    {
     "name": "stdout",
     "output_type": "stream",
     "text": [
      "10 workers are not allocated to a plant.\n"
     ]
    }
   ],
   "source": [
    "# Solve this exercise on Spyder ! (Open Anaconda)\n",
    "\n",
    "# Let's improve again the allocate_workers function. Consider that plants are included in a list of dictionaries: \n",
    "\n",
    "plants = [\n",
    "    {'location': 'Brussels', 'type': 'B'},\n",
    "    {'location': 'Liege', 'type': 'A'},\n",
    "    {'location': 'Namur', 'type': 'A'},\n",
    "    {'location': 'Anvers', 'type': 'B'},\n",
    "]\n",
    "\n",
    "# Each plant has a location and type key. \n",
    "# Modify the allocate_workers function such that it allocates workers into B plants first. \n",
    "# The function should also check if all plants are full. \n",
    "# If yes, return \"All plants are operational.\". \n",
    "# If not, return the plant which is not full using the following format: \n",
    "\n",
    "# \"The type B plant located in Brussels is not full\". \n",
    "\n",
    "# If workers are not allocated, return: \n",
    "\n",
    "# \"X workers are not allocated to a plant\".\n",
    "\n",
    "def allocate_workers(num_workers, plants):\n",
    "    temp_num_workers = num_workers\n",
    "    full_plants = 0\n",
    "    \n",
    "    for p in plants:\n",
    "        if p['type'] == 'B':\n",
    "            if temp_num_workers >= 15:\n",
    "                temp_num_workers -= 15\n",
    "                p['full'] = True\n",
    "                full_plants += 1\n",
    "            elif temp_num_workers > 0:\n",
    "                p['full'] = False\n",
    "                temp_num_workers = 0\n",
    "            else:\n",
    "                p['full'] = False\n",
    "    \n",
    "    for p in plants:\n",
    "        if p['type'] == 'A':\n",
    "            if temp_num_workers >= 10:\n",
    "                temp_num_workers -= 10\n",
    "                p['full'] = True\n",
    "                full_plants += 1\n",
    "            elif temp_num_workers > 0:\n",
    "                p['full'] = False\n",
    "                temp_num_workers = 0\n",
    "            else:\n",
    "                p['full'] = False\n",
    "        \n",
    "    if temp_num_workers > 0:\n",
    "        print(str(temp_num_workers) + ' workers are not allocated to a plant.')\n",
    "        return\n",
    "    else:\n",
    "        full_plants = 0\n",
    "        for p in plants:\n",
    "            if p['full'] == False:\n",
    "                print('The type {} plant located in {} is not full'.format(p['type'], p['location']))\n",
    "                \n",
    "    if full_plants == len(plants):\n",
    "        print('All plants are operational')\n",
    "        \n",
    "# Could it be more flexible ? (Hint: the plants dictionary)"
   ]
  },
  {
   "cell_type": "code",
   "execution_count": 138,
   "id": "2afb8dd1",
   "metadata": {},
   "outputs": [],
   "source": [
    "def allocate_workers(num_workers, plants):\n",
    "    temp_num_workers = num_workers\n",
    "    full_plants = 0\n",
    "    \n",
    "    for p in plants:\n",
    "        if p['type'] == 'B':\n",
    "            if temp_num_workers >= 15:\n",
    "                temp_num_workers -= 15\n",
    "                p['assigned_workers'] = 15\n",
    "                p['full'] = True\n",
    "                full_plants += 1\n",
    "            elif temp_num_workers > 0:\n",
    "                p['assigned_workers'] = temp_num_workers\n",
    "                p['full'] = False\n",
    "                temp_num_workers = 0\n",
    "            else:\n",
    "                p['assigned_workers'] = 0\n",
    "                p['full'] = False\n",
    "    \n",
    "    for p in plants:\n",
    "        if p['type'] == 'A':\n",
    "            if temp_num_workers >= 10:\n",
    "                temp_num_workers -= 10\n",
    "                p['assigned_workers'] = 10\n",
    "                p['full'] = True\n",
    "                full_plants += 1\n",
    "            elif temp_num_workers > 0:\n",
    "                p['assigned_workers'] = temp_num_workers\n",
    "                p['full'] = False\n",
    "                temp_num_workers = 0\n",
    "            else:\n",
    "                p['assigned_workers'] = 0\n",
    "                p['full'] = False\n",
    "        \n",
    "    if temp_num_workers > 0:\n",
    "        print(str(temp_num_workers) + ' workers are not allocated to a plant.')\n",
    "        return plants\n",
    "    else:\n",
    "        full_plants = 0\n",
    "        for p in plants:\n",
    "            if p['full'] == False:\n",
    "                print('The type {} plant located in {} is not full'.format(p['type'], p['location']))\n",
    "        return plants\n",
    "            \n",
    "    if full_plants == len(plants):\n",
    "        print('All plants are operational')\n",
    "        return plants"
   ]
  }
 ],
 "metadata": {
  "kernelspec": {
   "display_name": "Python 3 (ipykernel)",
   "language": "python",
   "name": "python3"
  },
  "language_info": {
   "codemirror_mode": {
    "name": "ipython",
    "version": 3
   },
   "file_extension": ".py",
   "mimetype": "text/x-python",
   "name": "python",
   "nbconvert_exporter": "python",
   "pygments_lexer": "ipython3",
   "version": "3.8.11"
  }
 },
 "nbformat": 4,
 "nbformat_minor": 5
}
