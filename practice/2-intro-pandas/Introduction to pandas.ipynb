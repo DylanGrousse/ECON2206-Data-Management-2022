{
 "cells": [
  {
   "cell_type": "markdown",
   "id": "1e35c524",
   "metadata": {},
   "source": [
    "## Introduction to pandas"
   ]
  },
  {
   "cell_type": "markdown",
   "id": "f331a89d",
   "metadata": {},
   "source": [
    "pandas is a fast, powerful, flexible and easy to use open source dataanalysis and manipulation tool, built on top of the Python programming language."
   ]
  },
  {
   "cell_type": "code",
   "execution_count": null,
   "id": "3e44d31d",
   "metadata": {},
   "outputs": [],
   "source": [
    "import pandas as pd"
   ]
  },
  {
   "cell_type": "markdown",
   "id": "b2f14e4f",
   "metadata": {},
   "source": [
    "### Creating data - Dataframe"
   ]
  },
  {
   "cell_type": "code",
   "execution_count": null,
   "id": "021f87c1",
   "metadata": {},
   "outputs": [],
   "source": [
    "data = pd.DataFrame({'Yes': [50, 21], 'No': [131, 2]})\n",
    "data"
   ]
  },
  {
   "cell_type": "code",
   "execution_count": null,
   "id": "054c9ee0",
   "metadata": {},
   "outputs": [],
   "source": [
    "data = pd.DataFrame({'Mike': ['Bald', 'Tall'], 'Anna': ['', 'Short']})"
   ]
  },
  {
   "cell_type": "markdown",
   "id": "8df64793",
   "metadata": {},
   "source": [
    "#### Row labels - Index"
   ]
  },
  {
   "cell_type": "code",
   "execution_count": null,
   "id": "cd022980",
   "metadata": {},
   "outputs": [],
   "source": [
    "data = pd.DataFrame({'Mike': ['Bald', 'Tall'], 'Anna': ['', 'Short']}, index=['Hair', 'Size'])\n",
    "data"
   ]
  },
  {
   "cell_type": "markdown",
   "id": "f20d5bca",
   "metadata": {},
   "source": [
    "### Series"
   ]
  },
  {
   "cell_type": "code",
   "execution_count": null,
   "id": "48230158",
   "metadata": {},
   "outputs": [],
   "source": [
    "data = pd.Series([30, 35, 40])\n",
    "data"
   ]
  },
  {
   "cell_type": "code",
   "execution_count": null,
   "id": "e016af66",
   "metadata": {},
   "outputs": [],
   "source": [
    "data = pd.Series([30, 35, 40], index=['2018 Sales', '2019 Sales', '2020 Sales'], name='Product A')\n",
    "data"
   ]
  },
  {
   "cell_type": "markdown",
   "id": "e7182019",
   "metadata": {},
   "source": [
    "### Reading data files "
   ]
  },
  {
   "cell_type": "code",
   "execution_count": null,
   "id": "45bb0e5c",
   "metadata": {
    "scrolled": true
   },
   "outputs": [],
   "source": [
    "wine_reviews = pd.read_csv(\"winemag-data-130k-v2.csv\")\n",
    "print(wine_reviews.shape)"
   ]
  },
  {
   "cell_type": "code",
   "execution_count": null,
   "id": "e6220675",
   "metadata": {
    "scrolled": true
   },
   "outputs": [],
   "source": [
    "print(wine_reviews.head())"
   ]
  },
  {
   "cell_type": "code",
   "execution_count": null,
   "id": "459f62e4",
   "metadata": {
    "scrolled": false
   },
   "outputs": [],
   "source": [
    "wine_reviews.head()"
   ]
  },
  {
   "cell_type": "code",
   "execution_count": null,
   "id": "f9d1d79c",
   "metadata": {},
   "outputs": [],
   "source": [
    "wine_reviews = pd.read_csv(\"winemag-data-130k-v2.csv\", index_col=0)\n",
    "wine_reviews.head()"
   ]
  },
  {
   "cell_type": "markdown",
   "id": "4a88dbc1",
   "metadata": {},
   "source": [
    "### Your Turn !"
   ]
  },
  {
   "cell_type": "markdown",
   "id": "2802e495",
   "metadata": {},
   "source": [
    "#### Exercise 1\n",
    "\n",
    "In the cell below, create a DataFrame `fruits` that looks like this:\n",
    "\n",
    "![](https://i.imgur.com/Ax3pp2A.png)"
   ]
  },
  {
   "cell_type": "markdown",
   "id": "c8d6e5c5",
   "metadata": {},
   "source": [
    "#### Exercise 2\n",
    "\n",
    "Create a dataframe `fruit_sales` that matches the diagram below:\n",
    "\n",
    "![](https://i.imgur.com/CHPn7ZF.png)"
   ]
  },
  {
   "cell_type": "markdown",
   "id": "7069a327",
   "metadata": {},
   "source": [
    "#### Exercise 3\n",
    "\n",
    "Create a variable `ingredients` with a Series that looks like:\n",
    "\n",
    "```\n",
    "Flour     4 cups\n",
    "Milk       1 cup\n",
    "Eggs     2 large\n",
    "Spam       1 can\n",
    "Name: Dinner, dtype: object\n",
    "```"
   ]
  },
  {
   "cell_type": "markdown",
   "id": "2cf2769e",
   "metadata": {},
   "source": [
    "### Native Accessors"
   ]
  },
  {
   "cell_type": "code",
   "execution_count": null,
   "id": "4e2e170b",
   "metadata": {},
   "outputs": [],
   "source": [
    "wine_reviews.country"
   ]
  },
  {
   "cell_type": "code",
   "execution_count": null,
   "id": "371b7e25",
   "metadata": {},
   "outputs": [],
   "source": [
    "wine_reviews['country']"
   ]
  },
  {
   "cell_type": "code",
   "execution_count": null,
   "id": "e84b3769",
   "metadata": {},
   "outputs": [],
   "source": [
    "wine_reviews['country'][0]"
   ]
  },
  {
   "cell_type": "markdown",
   "id": "e0a355fa",
   "metadata": {},
   "source": [
    "### Indexing in pandas - Index-based selection"
   ]
  },
  {
   "cell_type": "code",
   "execution_count": null,
   "id": "35c56116",
   "metadata": {},
   "outputs": [],
   "source": [
    "wine_reviews.iloc[0]"
   ]
  },
  {
   "cell_type": "code",
   "execution_count": null,
   "id": "ce2b6c26",
   "metadata": {},
   "outputs": [],
   "source": [
    "wine_reviews.iloc[:, 0]"
   ]
  },
  {
   "cell_type": "code",
   "execution_count": null,
   "id": "f7f29f39",
   "metadata": {},
   "outputs": [],
   "source": [
    "wine_reviews.iloc[:3, 0]"
   ]
  },
  {
   "cell_type": "code",
   "execution_count": null,
   "id": "f12d3c3f",
   "metadata": {
    "scrolled": true
   },
   "outputs": [],
   "source": [
    "wine_reviews.iloc[[0, 1, 2], 0]"
   ]
  },
  {
   "cell_type": "code",
   "execution_count": null,
   "id": "fccf5c33",
   "metadata": {},
   "outputs": [],
   "source": [
    "wine_reviews.iloc[-5:]"
   ]
  },
  {
   "cell_type": "markdown",
   "id": "f61caefb",
   "metadata": {},
   "source": [
    "### Indexing in pandas - Label-based selection"
   ]
  },
  {
   "cell_type": "code",
   "execution_count": null,
   "id": "9a26c212",
   "metadata": {},
   "outputs": [],
   "source": [
    "wine_reviews.loc[0, 'country']"
   ]
  },
  {
   "cell_type": "code",
   "execution_count": null,
   "id": "a5e7004e",
   "metadata": {},
   "outputs": [],
   "source": [
    "wine_reviews.loc[:, ['taster_name', 'taster_twitter_handle', 'points']]"
   ]
  },
  {
   "cell_type": "markdown",
   "id": "4c33dc9c",
   "metadata": {},
   "source": [
    "`iloc` uses the Python stdlib indexing scheme, where the first element of the range is included and the last one excluded. So `0:10` will select entries `0,...,9`. `loc`, meanwhile, indexes inclusively. So `0:10` will select entries `0,...,10`."
   ]
  },
  {
   "cell_type": "markdown",
   "id": "02b61f5c",
   "metadata": {},
   "source": [
    "### Conditional Selection "
   ]
  },
  {
   "cell_type": "code",
   "execution_count": null,
   "id": "bb009ed0",
   "metadata": {},
   "outputs": [],
   "source": [
    "wine_reviews.country == 'Italy'"
   ]
  },
  {
   "cell_type": "code",
   "execution_count": null,
   "id": "bf8ffd8d",
   "metadata": {},
   "outputs": [],
   "source": [
    "wine_reviews.loc[wine_reviews.country == 'Italy']"
   ]
  },
  {
   "cell_type": "code",
   "execution_count": null,
   "id": "44666177",
   "metadata": {
    "scrolled": true
   },
   "outputs": [],
   "source": [
    "wine_reviews.loc[(wine_reviews.country == 'Italy') & (wine_reviews.points >= 90)]"
   ]
  },
  {
   "cell_type": "code",
   "execution_count": null,
   "id": "d640719e",
   "metadata": {},
   "outputs": [],
   "source": [
    "wine_reviews.loc[(wine_reviews.country == 'Italy') | (wine_reviews.points >= 90)]"
   ]
  },
  {
   "cell_type": "code",
   "execution_count": null,
   "id": "5b6f9dac",
   "metadata": {},
   "outputs": [],
   "source": [
    "# Selects wines from Italy and France\n",
    "wine_reviews.loc[wine_reviews.country.isin(['Italy', 'France'])] "
   ]
  },
  {
   "cell_type": "code",
   "execution_count": null,
   "id": "0c84b886",
   "metadata": {},
   "outputs": [],
   "source": [
    "# Selects wines for which price is not missing\n",
    "wine_reviews.loc[wine_reviews.price.notnull()] # The opposite of \"notnull\" is \"isnull\""
   ]
  },
  {
   "cell_type": "markdown",
   "id": "c6caf876",
   "metadata": {},
   "source": [
    "### Assigning data"
   ]
  },
  {
   "cell_type": "code",
   "execution_count": null,
   "id": "9ddeb544",
   "metadata": {
    "scrolled": true
   },
   "outputs": [],
   "source": [
    "wine_reviews['critic'] = 'everyone'\n",
    "wine_reviews['critic']"
   ]
  },
  {
   "cell_type": "code",
   "execution_count": null,
   "id": "cb51f2ed",
   "metadata": {},
   "outputs": [],
   "source": [
    "wine_reviews['index_backwards'] = range(len(wine_reviews), 0, -1)\n",
    "wine_reviews['index_backwards']"
   ]
  },
  {
   "cell_type": "markdown",
   "id": "170481da",
   "metadata": {},
   "source": [
    "### Your turn !"
   ]
  },
  {
   "cell_type": "markdown",
   "id": "f84565d8",
   "metadata": {},
   "source": [
    "#### Exercice 4\n",
    "\n",
    "Select the `description` column from `reviews` and assign the result to the variable `desc`.\n",
    "\n",
    "What type of object is `desc` ?"
   ]
  },
  {
   "cell_type": "markdown",
   "id": "d02f64a7",
   "metadata": {},
   "source": [
    "#### Exercise 5\n",
    "\n",
    "Select the first value from the description column of `reviews`, assigning it to variable `first_description`."
   ]
  },
  {
   "cell_type": "markdown",
   "id": "7ecf520f",
   "metadata": {},
   "source": [
    "#### Exercise 6 \n",
    "\n",
    "Select the first row of data (the first record) from `reviews`, assigning it to the variable `first_row`."
   ]
  },
  {
   "cell_type": "markdown",
   "id": "4b61ca94",
   "metadata": {},
   "source": [
    "#### Exercise 7\n",
    "\n",
    "Select the first 10 values from the `description` column in `reviews`, assigning the result to variable `first_descriptions`.\n",
    "\n",
    "Hint: format your output as a pandas Series."
   ]
  },
  {
   "cell_type": "markdown",
   "id": "998019e2",
   "metadata": {},
   "source": [
    "#### Exercise 8\n",
    "\n",
    "Select the records with index labels `1`, `2`, `3`, `5`, and `8`, assigning the result to the variable `sample_reviews`.\n",
    "\n",
    "In other words, generate the following DataFrame:\n",
    "\n",
    "![](https://i.imgur.com/sHZvI1O.png)"
   ]
  },
  {
   "cell_type": "markdown",
   "id": "7b3a5a92",
   "metadata": {},
   "source": [
    "#### Exercise 9\n",
    "\n",
    "Create a variable `df` containing the `country`, `province`, `region_1`, and `region_2` columns of the records with the index labels `0`, `1`, `10`, and `100`. In other words, generate the following DataFrame:\n",
    "\n",
    "![](https://i.imgur.com/FUCGiKP.png)"
   ]
  },
  {
   "cell_type": "markdown",
   "id": "64ff8151",
   "metadata": {},
   "source": [
    "#### Exercise 10\n",
    "\n",
    "Create a variable `df` containing the `country` and `variety` columns of the first 100 records."
   ]
  },
  {
   "cell_type": "markdown",
   "id": "c25c9c1e",
   "metadata": {},
   "source": [
    "#### Exercise 11\n",
    "\n",
    "Create a DataFrame `italian_wines` containing reviews of wines made in `Italy`."
   ]
  },
  {
   "cell_type": "markdown",
   "id": "792ce0bb",
   "metadata": {},
   "source": [
    "#### Exercise 12\n",
    "\n",
    "Create a DataFrame `top_oceania_wines` containing all reviews with at least 95 points (out of 100) for wines from Australia or New Zealand."
   ]
  },
  {
   "cell_type": "markdown",
   "id": "2cb0b63d",
   "metadata": {},
   "source": [
    "### Summary functions"
   ]
  },
  {
   "cell_type": "code",
   "execution_count": null,
   "id": "cecfb23f",
   "metadata": {},
   "outputs": [],
   "source": [
    "wine_reviews.points.describe()\n",
    "wine_reviews.taster_name.describe()"
   ]
  },
  {
   "cell_type": "code",
   "execution_count": null,
   "id": "83039da8",
   "metadata": {},
   "outputs": [],
   "source": [
    "wine_reviews.points.mean()\n",
    "wine_reviews.taster_name.unique()"
   ]
  },
  {
   "cell_type": "code",
   "execution_count": null,
   "id": "bab3fec9",
   "metadata": {},
   "outputs": [],
   "source": [
    "wine_reviews.taster_name.value_counts()"
   ]
  },
  {
   "cell_type": "markdown",
   "id": "4bd6d85b",
   "metadata": {},
   "source": [
    "### Maps"
   ]
  },
  {
   "cell_type": "code",
   "execution_count": null,
   "id": "9c188c3d",
   "metadata": {},
   "outputs": [],
   "source": [
    "review_points_mean = wine_reviews.points.mean()\n",
    "points_remean = wine_reviews.points.map(lambda p: p - review_points_mean)\n",
    "points_remean"
   ]
  },
  {
   "cell_type": "markdown",
   "id": "60aa9fa7",
   "metadata": {},
   "source": [
    "The function you pass to `map()` should expect a single value from the Series (a point value, in the above example), and return a transformed version of that value. `map()` returns a new Series where all the values have been transformed by your function.\n",
    "\n",
    "`apply()` is the equivalent method if we want to transform a whole DataFrame by calling a custom method on each row."
   ]
  },
  {
   "cell_type": "code",
   "execution_count": null,
   "id": "06d0dc4d",
   "metadata": {},
   "outputs": [],
   "source": [
    "review_points_mean = wine_reviews.points.mean()\n",
    "\n",
    "def remean_points(row):\n",
    "    row.points = row.points - review_points_mean\n",
    "    return row\n",
    "\n",
    "wine_reviews.apply(remean_points, axis='columns')"
   ]
  },
  {
   "cell_type": "markdown",
   "id": "1166893c",
   "metadata": {},
   "source": [
    "If we had called winereviews.apply() with axis='index', then instead of passing afunction to transform each row, we would need to give a function to transform each column.\n",
    "\n",
    "Note that map() and apply() return new, transformed Series and DataFrames, respectively. They don’t modify the original data they’re called on."
   ]
  },
  {
   "cell_type": "code",
   "execution_count": null,
   "id": "f1c4abda",
   "metadata": {
    "scrolled": true
   },
   "outputs": [],
   "source": [
    "review_points_mean = wine_reviews.points.mean()\n",
    "points_remean = wine_reviews.points - review_points_mean\n",
    "print(points_remean)\n",
    "\n",
    "print(wine_reviews.country + \" - \" + wine_reviews.region_1)"
   ]
  },
  {
   "cell_type": "markdown",
   "id": "6a119d2b",
   "metadata": {},
   "source": [
    "### Your Turn !"
   ]
  },
  {
   "cell_type": "markdown",
   "id": "abd50824",
   "metadata": {},
   "source": [
    "#### Exercise 13\n",
    "\n",
    "What is the median of the `points` column in the `reviews` DataFrame?"
   ]
  },
  {
   "cell_type": "markdown",
   "id": "3efbf17d",
   "metadata": {},
   "source": [
    "#### Exercise 14\n",
    "\n",
    "What countries are represented in the dataset? (Your answer should not include any duplicates.)"
   ]
  },
  {
   "cell_type": "markdown",
   "id": "0f9a9182",
   "metadata": {},
   "source": [
    "#### Exercise 15\n",
    "\n",
    "How often does each country appear in the dataset? Create a Series `reviews_per_country` mapping countries to the count of reviews of wines from that country."
   ]
  },
  {
   "cell_type": "markdown",
   "id": "ae717ede",
   "metadata": {},
   "source": [
    "#### Exercise 16\n",
    "\n",
    "Create variable `centered_price` containing a version of the `price` column with the mean price subtracted."
   ]
  },
  {
   "cell_type": "markdown",
   "id": "bbb39f53",
   "metadata": {},
   "source": [
    "#### Exercise 17 \n",
    "\n",
    "I'm an economical wine buyer. Which wine is the \"best bargain\"? Create a variable `bargain_wine` with the title of the wine with the highest points-to-price ratio in the dataset."
   ]
  },
  {
   "cell_type": "markdown",
   "id": "b040df8e",
   "metadata": {},
   "source": [
    "#### Exercise 18\n",
    "\n",
    "There are only so many words you can use when describing a bottle of wine. Is a wine more likely to be \"tropical\" or \"fruity\"? Create a Series `descriptor_counts` counting how many times each of these two words appears in the `description` column in the dataset."
   ]
  },
  {
   "cell_type": "markdown",
   "id": "78229c96",
   "metadata": {},
   "source": [
    "#### Exercise 19\n",
    "\n",
    "We'd like to host these wine reviews on our website, but a rating system ranging from 80 to 100 points is too hard to understand - we'd like to translate them into simple star ratings. A score of 95 or higher counts as 3 stars, a score of at least 85 but less than 95 is 2 stars. Any other score is 1 star.\n",
    "\n",
    "Also, the Canadian Vintners Association bought a lot of ads on the site, so any wines from Canada should automatically get 3 stars, regardless of points.\n",
    "\n",
    "Create a series `star_ratings` with the number of stars corresponding to each review in the dataset."
   ]
  },
  {
   "cell_type": "markdown",
   "id": "a6734fde",
   "metadata": {},
   "source": [
    "### Groupwise analysis"
   ]
  },
  {
   "cell_type": "code",
   "execution_count": null,
   "id": "d45f2cbe",
   "metadata": {},
   "outputs": [],
   "source": [
    "wine_reviews.groupby('points').points.count() # Same as value_counts()"
   ]
  },
  {
   "cell_type": "code",
   "execution_count": null,
   "id": "6c569e3b",
   "metadata": {},
   "outputs": [],
   "source": [
    "wine_reviews.groupby('points').price.min()"
   ]
  },
  {
   "cell_type": "code",
   "execution_count": null,
   "id": "687dc04c",
   "metadata": {},
   "outputs": [],
   "source": [
    "wine_reviews.groupby('winery').apply(lambda df: df.title.iloc[0])"
   ]
  },
  {
   "cell_type": "code",
   "execution_count": null,
   "id": "e38c0891",
   "metadata": {},
   "outputs": [],
   "source": [
    "wine_reviews.groupby(['country', 'province']).apply(lambda df: df.loc[df.points.idxmax()])"
   ]
  },
  {
   "cell_type": "code",
   "execution_count": null,
   "id": "6d997305",
   "metadata": {},
   "outputs": [],
   "source": [
    "wine_reviews.groupby(['country']).price.agg([len, min, max])"
   ]
  },
  {
   "cell_type": "markdown",
   "id": "5e107516",
   "metadata": {},
   "source": [
    "### Multi-indexes"
   ]
  },
  {
   "cell_type": "code",
   "execution_count": null,
   "id": "eb585124",
   "metadata": {},
   "outputs": [],
   "source": [
    "countries = wine_reviews.groupby(['country', 'province']).description.agg([len])\n",
    "countries"
   ]
  },
  {
   "cell_type": "code",
   "execution_count": null,
   "id": "a44eca08",
   "metadata": {},
   "outputs": [],
   "source": [
    "countries.reset_index()"
   ]
  },
  {
   "cell_type": "markdown",
   "id": "bce2b235",
   "metadata": {},
   "source": [
    "### Sorting"
   ]
  },
  {
   "cell_type": "code",
   "execution_count": null,
   "id": "fcfd1f40",
   "metadata": {},
   "outputs": [],
   "source": [
    "countries.sort_values(by='len')\n",
    "countries.sort_values(by='len', ascending=False)\n",
    "countries.sort_index()\n",
    "countries.sort_values(by=['country', 'len'])"
   ]
  },
  {
   "cell_type": "markdown",
   "id": "875db51d",
   "metadata": {},
   "source": [
    "### Your Turn !"
   ]
  },
  {
   "cell_type": "markdown",
   "id": "0107a8a9",
   "metadata": {},
   "source": [
    "#### Exercise 20\n",
    "\n",
    "Who are the most common wine reviewers in the dataset? Create a `Series` whose index is the `taster_twitter_handle` category from the dataset, and whose values count how many reviews each person wrote."
   ]
  },
  {
   "cell_type": "markdown",
   "id": "24534978",
   "metadata": {},
   "source": [
    "#### Exercise 21\n",
    "\n",
    "What is the best wine I can buy for a given amount of money? Create a `Series` whose index is wine prices and whose values is the maximum number of points a wine costing that much was given in a review. Sort the values by price, ascending (so that `4.0` dollars is at the top and `3300.0` dollars is at the bottom)."
   ]
  },
  {
   "cell_type": "markdown",
   "id": "8eafd447",
   "metadata": {},
   "source": [
    "#### Exercise 22\n",
    "\n",
    "What are the minimum and maximum prices for each `variety` of wine? Create a `DataFrame` whose index is the `variety` category from the dataset and whose values are the `min` and `max` values thereof."
   ]
  },
  {
   "cell_type": "markdown",
   "id": "b0ef5cec",
   "metadata": {},
   "source": [
    "#### Exercise 23\n",
    "\n",
    "What are the most expensive wine varieties? Create a variable `sorted_varieties` containing a copy of the dataframe from the previous question where varieties are sorted in descending order based on minimum price, then on maximum price (to break ties)."
   ]
  },
  {
   "cell_type": "markdown",
   "id": "b5f0c043",
   "metadata": {},
   "source": [
    "#### Exercise 24\n",
    "\n",
    "Create a `Series` whose index is reviewers and whose values is the average review score given out by that reviewer. Hint: you will need the `taster_name` and `points` columns."
   ]
  },
  {
   "cell_type": "markdown",
   "id": "6fe72bb7",
   "metadata": {},
   "source": [
    "#### Exercise 25\n",
    "\n",
    "What combination of countries and varieties are most common? Create a `Series` whose index is a `MultiIndex`of `{country, variety}` pairs. For example, a pinot noir produced in the US should map to `{\"US\", \"Pinot Noir\"}`. Sort the values in the `Series` in descending order based on wine count."
   ]
  },
  {
   "cell_type": "markdown",
   "id": "70d6b064",
   "metadata": {},
   "source": [
    "### Data types"
   ]
  },
  {
   "cell_type": "markdown",
   "id": "5c33c2ae",
   "metadata": {},
   "source": [
    "The data type for a column in a DataFrame or a Series is known as the **dtype**."
   ]
  },
  {
   "cell_type": "code",
   "execution_count": null,
   "id": "a6126dfa",
   "metadata": {},
   "outputs": [],
   "source": [
    "wine_reviews.price.dtype\n",
    "wine_reviews.dtypes"
   ]
  },
  {
   "cell_type": "code",
   "execution_count": null,
   "id": "8f2b3cc1",
   "metadata": {},
   "outputs": [],
   "source": [
    "wine_reviews.points.astype('float64')"
   ]
  },
  {
   "cell_type": "markdown",
   "id": "ed11b4a9",
   "metadata": {},
   "source": [
    "#### Missing data"
   ]
  },
  {
   "cell_type": "markdown",
   "id": "c2e9a149",
   "metadata": {},
   "source": [
    "Entries missing values are given the value **NaN**, short for \"Not a Number\". For technical reasons these NaN values are always of the float64 dtype."
   ]
  },
  {
   "cell_type": "code",
   "execution_count": null,
   "id": "ebac6fcd",
   "metadata": {},
   "outputs": [],
   "source": [
    "wine_reviews[pd.isnull(wine_reviews.country)]"
   ]
  },
  {
   "cell_type": "code",
   "execution_count": null,
   "id": "05fa95b7",
   "metadata": {},
   "outputs": [],
   "source": [
    "wine_reviews.region_2.fillna(\"Unknown\")"
   ]
  },
  {
   "cell_type": "code",
   "execution_count": null,
   "id": "084149b6",
   "metadata": {},
   "outputs": [],
   "source": [
    "wine_reviews.taster_twitter_handle.replace(\"@kerinokeefe\", \"@kerino\")"
   ]
  },
  {
   "cell_type": "markdown",
   "id": "08aae118",
   "metadata": {},
   "source": [
    "### Renaming"
   ]
  },
  {
   "cell_type": "code",
   "execution_count": null,
   "id": "cdd64eb5",
   "metadata": {},
   "outputs": [],
   "source": [
    "wine_reviews.rename(columns={'points': 'score'})"
   ]
  },
  {
   "cell_type": "code",
   "execution_count": null,
   "id": "916bef1e",
   "metadata": {},
   "outputs": [],
   "source": [
    "wine_reviews.rename_axis(\"wines\", axis='rows').rename_axis(\"fields\", axis='columns')"
   ]
  },
  {
   "cell_type": "markdown",
   "id": "75bcd5d7",
   "metadata": {},
   "source": [
    "### Combining"
   ]
  },
  {
   "cell_type": "code",
   "execution_count": null,
   "id": "11523cfa",
   "metadata": {},
   "outputs": [],
   "source": [
    "# Do not run these lines\n",
    "# french_wines = pd.read_csv(\"your_directory.csv\")\n",
    "# british_wines = pd.read_csv(\"your_directory.csv\")\n",
    "\n",
    "# pd.concat([french_wines, british_wines])"
   ]
  },
  {
   "cell_type": "code",
   "execution_count": null,
   "id": "6236a404",
   "metadata": {},
   "outputs": [],
   "source": [
    "# Do not run these lines\n",
    "# left = french_wines.set_index(['shared_index1', 'shared_index2'])\n",
    "# right = british_wines.set_index(['shared_index1', 'shared_index2'])\n",
    "\n",
    "# left.join(right, lsuffix='_FR', rsuffix='_UK')"
   ]
  },
  {
   "cell_type": "markdown",
   "id": "6c1f7ca3",
   "metadata": {},
   "source": [
    "### Your Turn !"
   ]
  },
  {
   "cell_type": "markdown",
   "id": "397115c9",
   "metadata": {},
   "source": [
    "#### Exercise 26\n",
    "\n",
    "What is the data type of the `points` column in the dataset?"
   ]
  },
  {
   "cell_type": "markdown",
   "id": "2d443054",
   "metadata": {},
   "source": [
    "#### Exercise 27\n",
    "\n",
    "Create a Series from entries in the `points` column, but convert the entries to strings. Hint: strings are `str` in native Python."
   ]
  },
  {
   "cell_type": "markdown",
   "id": "c0bd961e",
   "metadata": {},
   "source": [
    "#### Exercise 28\n",
    "\n",
    "Sometimes the price column is null. How many reviews in the dataset are missing a price?"
   ]
  },
  {
   "cell_type": "markdown",
   "id": "3d9551d8",
   "metadata": {},
   "source": [
    "#### Exercise 29\n",
    "\n",
    "What are the most common wine-producing regions? Create a Series counting the number of times each value occurs in the `region_1` field. This field is often missing data, so replace missing values with `Unknown`. Sort in descending order.  Your output should look something like this:\n",
    "\n",
    "```\n",
    "Unknown                    21247\n",
    "Napa Valley                 4480\n",
    "                           ...  \n",
    "Bardolino Superiore            1\n",
    "Primitivo del Tarantino        1\n",
    "Name: region_1, Length: 1230, dtype: int64\n",
    "```"
   ]
  },
  {
   "cell_type": "markdown",
   "id": "c794d600",
   "metadata": {},
   "source": [
    "#### Exercise 30"
   ]
  },
  {
   "cell_type": "code",
   "execution_count": null,
   "id": "71dca66b",
   "metadata": {},
   "outputs": [],
   "source": [
    "wine_reviews.head()"
   ]
  },
  {
   "cell_type": "markdown",
   "id": "f42160d8",
   "metadata": {},
   "source": [
    "`region_1` and `region_2` are pretty uninformative names for locale columns in the dataset. Create a copy of `reviews` with these columns renamed to `region` and `locale`, respectively."
   ]
  },
  {
   "cell_type": "markdown",
   "id": "e3e97176",
   "metadata": {},
   "source": [
    "#### Exercise 31\n",
    "\n",
    "Set the index name in the dataset to `wines`."
   ]
  }
 ],
 "metadata": {
  "kernelspec": {
   "display_name": "Python 3 (ipykernel)",
   "language": "python",
   "name": "python3"
  },
  "language_info": {
   "codemirror_mode": {
    "name": "ipython",
    "version": 3
   },
   "file_extension": ".py",
   "mimetype": "text/x-python",
   "name": "python",
   "nbconvert_exporter": "python",
   "pygments_lexer": "ipython3",
   "version": "3.9.10"
  },
  "toc": {
   "base_numbering": 1,
   "nav_menu": {},
   "number_sections": false,
   "sideBar": true,
   "skip_h1_title": false,
   "title_cell": "Table of Contents",
   "title_sidebar": "Contents",
   "toc_cell": false,
   "toc_position": {},
   "toc_section_display": true,
   "toc_window_display": false
  }
 },
 "nbformat": 4,
 "nbformat_minor": 5
}
